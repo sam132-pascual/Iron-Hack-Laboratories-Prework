{
 "cells": [
  {
   "cell_type": "code",
   "execution_count": 1,
   "metadata": {},
   "outputs": [
    {
     "name": "stdout",
     "output_type": "stream",
     "text": [
      "[10]\n",
      "[10, 13]\n",
      "[10, 13, 11]\n",
      "[10, 13, 11, 10]\n",
      "[10, 13, 11, 10, 14]\n",
      "[10, 13, 11, 10, 14, 10]\n",
      "[10, 13, 11, 10, 14, 10, 7]\n",
      "[10, 13, 11, 10, 14, 10, 7, 5]\n",
      "[10, 13, 11, 10, 14, 10, 7, 5, 4]\n",
      "The maximun occupation is: 14\n",
      "The average occupation is 9.33\n",
      "The standard deviation is: 3.39\n"
     ]
    }
   ],
   "source": [
    "stops = [(10, 0), (4, 1), (3, 5), (3, 4), (5, 1), (1, 5), (5, 8), (4, 6), (2, 3)]\n",
    "movement = []\n",
    "occupation = []\n",
    "# 1 Calcular el numero de paradas\n",
    "\n",
    "total_stops = len(stops)\n",
    "\n",
    "# 2 Assign to a variable a list whose elements are the number of passengers at each stop (in-out).\\n\",\n",
    "#     \"Each item depends on the previous item in the list + in - out\n",
    "\n",
    "for up, down in stops:\n",
    "    movement.append(up - down)\n",
    "\n",
    "for i in range(total_stops):\n",
    "    occupation.append(sum(movement[0:i + 1]))\n",
    "    print(occupation)\n",
    "\n",
    "# 3 Find the maximum occupation of the bus\n",
    "\n",
    "print(f\"The maximun occupation is: {max(occupation)}\")\n",
    "\n",
    "# 4 Calculate the average occupation. And the standard deviation\n",
    "\n",
    "print(\"The average occupation is\", round((sum(occupation)/total_stops), 2))\n",
    "\n",
    "import statistics\n",
    "\n",
    "print(f\"The standard deviation is: {round(statistics.stdev(occupation), 2)}\")"
   ]
  },
  {
   "cell_type": "code",
   "execution_count": null,
   "metadata": {},
   "outputs": [],
   "source": []
  }
 ],
 "metadata": {
  "kernelspec": {
   "display_name": "Python 3",
   "language": "python",
   "name": "python3"
  },
  "language_info": {
   "codemirror_mode": {
    "name": "ipython",
    "version": 3
   },
   "file_extension": ".py",
   "mimetype": "text/x-python",
   "name": "python",
   "nbconvert_exporter": "python",
   "pygments_lexer": "ipython3",
   "version": "3.8.6"
  }
 },
 "nbformat": 4,
 "nbformat_minor": 4
}
