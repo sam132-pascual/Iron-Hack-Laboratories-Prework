{
 "cells": [
  {
   "cell_type": "code",
   "execution_count": 4,
   "metadata": {},
   "outputs": [
    {
     "name": "stdout",
     "output_type": "stream",
     "text": [
      "the snail leaves in: 11 days\n"
     ]
    }
   ],
   "source": [
    "well_height = 125\n",
    "daily_advance = 30\n",
    "night_retreat = 20\n",
    "snail_position = 0\n",
    "days = 0\n",
    "\n",
    "while snail_position < well_height:\n",
    "    days += 1\n",
    "    snail_position += daily_advance\n",
    "\n",
    "    if snail_position < well_height:\n",
    "        snail_position -= night_retreat\n",
    "\n",
    "    else:\n",
    "        print(f\"the snail leaves in: {days} days\")\n"
   ]
  },
  {
   "cell_type": "code",
   "execution_count": null,
   "metadata": {},
   "outputs": [],
   "source": [
    "# Bonus "
   ]
  },
  {
   "cell_type": "code",
   "execution_count": 3,
   "metadata": {},
   "outputs": [
    {
     "name": "stdout",
     "output_type": "stream",
     "text": [
      "1 10\n",
      "2 11\n",
      "3 24\n",
      "4 81\n",
      "El caracol sale en: 5 dias\n"
     ]
    }
   ],
   "source": [
    "well_height = 125\n",
    "night_retreat = 20\n",
    "snail_position = 0\n",
    "days = 0\n",
    "advance_cm = [30, 21, 33, 77, 44, 45, 23, 45, 12, 34, 55]\n",
    "\n",
    "for day_cm in advance_cm:\n",
    "   days += 1\n",
    "   snail_position += day_cm\n",
    "\n",
    "   if snail_position < well_height:\n",
    "      snail_position -= night_retreat\n",
    "      print(days, snail_position)\n",
    "\n",
    "   else:\n",
    "      break\n",
    "\n",
    "print(f\"The snail leave in: {days} days\")"
   ]
  },
  {
   "cell_type": "code",
   "execution_count": null,
   "metadata": {},
   "outputs": [],
   "source": []
  }
 ],
 "metadata": {
  "kernelspec": {
   "display_name": "Python 3",
   "language": "python",
   "name": "python3"
  },
  "language_info": {
   "codemirror_mode": {
    "name": "ipython",
    "version": 3
   },
   "file_extension": ".py",
   "mimetype": "text/x-python",
   "name": "python",
   "nbconvert_exporter": "python",
   "pygments_lexer": "ipython3",
   "version": "3.8.6"
  }
 },
 "nbformat": 4,
 "nbformat_minor": 4
}
