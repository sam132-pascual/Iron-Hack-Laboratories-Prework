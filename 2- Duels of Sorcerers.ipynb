{
 "cells": [
  {
   "cell_type": "code",
   "execution_count": 2,
   "metadata": {},
   "outputs": [
    {
     "name": "stdout",
     "output_type": "stream",
     "text": [
      "Gandalf wins: 6 times\n",
      "Saruman wins: 4 times\n",
      "Gandalf wins\n"
     ]
    }
   ],
   "source": [
    "gandalf = [10, 11, 13, 30, 22, 11, 10, 33, 22, 22]\n",
    "saruman = [23, 66, 12, 43, 12, 10, 44, 23, 12, 17]\n",
    "gandalf_wins = 0\n",
    "saruman_wins = 0\n",
    "\n",
    "for sar, gan in zip(saruman, gandalf):\n",
    "    if gan>sar:\n",
    "        gandalf_wins += 1\n",
    "    else:\n",
    "        saruman_wins += 1\n",
    "\n",
    "print(f\"Gandalf wins: {gandalf_wins} times\")\n",
    "print(f\"Saruman wins: {saruman_wins} times\")\n",
    "\n",
    "if gandalf_wins > saruman_wins:\n",
    "    print(\"Gandalf wins\")\n",
    "elif saruman_wins > gandalf_wins:\n",
    "    print(\"Saruman wins\")\n",
    "else:\n",
    "    print(\"Tie wins\")"
   ]
  },
  {
   "cell_type": "code",
   "execution_count": null,
   "metadata": {},
   "outputs": [],
   "source": []
  },
  {
   "cell_type": "code",
   "execution_count": null,
   "metadata": {},
   "outputs": [],
   "source": []
  }
 ],
 "metadata": {
  "kernelspec": {
   "display_name": "Python 3",
   "language": "python",
   "name": "python3"
  },
  "language_info": {
   "codemirror_mode": {
    "name": "ipython",
    "version": 3
   },
   "file_extension": ".py",
   "mimetype": "text/x-python",
   "name": "python",
   "nbconvert_exporter": "python",
   "pygments_lexer": "ipython3",
   "version": "3.8.6"
  }
 },
 "nbformat": 4,
 "nbformat_minor": 4
}
